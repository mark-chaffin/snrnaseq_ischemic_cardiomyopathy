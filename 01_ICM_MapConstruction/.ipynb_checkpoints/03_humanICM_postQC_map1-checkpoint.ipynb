{
 "cells": [
  {
   "cell_type": "markdown",
   "metadata": {},
   "source": [
    "# Step 3: Construct a stage 1 map of all post-QC nuclei\n",
    "At this point, we've identified low quality clusters from the global map, as well as low quality nuclei within each global cluster. We will construct a stage 1 map at this point that contains all nuclei that pass QC and cluster this into broad cell types. There will be one additional cleaning step before the final map is constructed."
   ]
  },
  {
   "cell_type": "code",
   "execution_count": 2,
   "metadata": {},
   "outputs": [],
   "source": [
    "%matplotlib inline"
   ]
  },
  {
   "cell_type": "code",
   "execution_count": 3,
   "metadata": {},
   "outputs": [],
   "source": [
    "# Libraries\n",
    "import matplotlib\n",
    "import matplotlib.pyplot as plt\n",
    "\n",
    "import pandas as pd\n",
    "import numpy as np\n",
    "import os\n",
    "import re\n",
    "\n",
    "import scanpy as sc\n",
    "import harmony\n",
    "from harmony import harmonize\n",
    "\n",
    "import warnings"
   ]
  },
  {
   "cell_type": "code",
   "execution_count": 3,
   "metadata": {},
   "outputs": [
    {
     "name": "stdout",
     "output_type": "stream",
     "text": [
      "scanpy: 1.7.2\n",
      "pandas: 1.2.4\n",
      "numpy: 1.18.1\n",
      "harmony: 0.1.4\n"
     ]
    }
   ],
   "source": [
    "print('scanpy: ' + sc.__version__)\n",
    "print('pandas: ' + pd.__version__)\n",
    "print('numpy: ' + np.__version__)\n",
    "print('harmony: ' + harmony.__version__)"
   ]
  },
  {
   "cell_type": "code",
   "execution_count": 4,
   "metadata": {},
   "outputs": [],
   "source": [
    "# Turn off some annoying FutureWarnings\n",
    "warnings.simplefilter(action='ignore', category=FutureWarning)"
   ]
  },
  {
   "cell_type": "markdown",
   "metadata": {},
   "source": [
    "### Set aggregation path"
   ]
  },
  {
   "cell_type": "code",
   "execution_count": 4,
   "metadata": {},
   "outputs": [],
   "source": [
    "path_aggregation = '../../data/aggregation'"
   ]
  },
  {
   "cell_type": "markdown",
   "metadata": {},
   "source": [
    "### Get the full dataset pre-QC\n",
    "This is count data, unnormalized"
   ]
  },
  {
   "cell_type": "code",
   "execution_count": 9,
   "metadata": {},
   "outputs": [
    {
     "name": "stdout",
     "output_type": "stream",
     "text": [
      "WARNING: Your filename has more than two extensions: ['.PreQC', '.Raw', '.h5ad'].\n",
      "Only considering the two last: ['.Raw', '.h5ad'].\n",
      "WARNING: Your filename has more than two extensions: ['.PreQC', '.Raw', '.h5ad'].\n",
      "Only considering the two last: ['.Raw', '.h5ad'].\n"
     ]
    }
   ],
   "source": [
    "# This is the raw data\n",
    "adata = sc.read(os.path.join(path_aggregation,'humanICM.PreQC.Raw.h5ad'))"
   ]
  },
  {
   "cell_type": "code",
   "execution_count": 10,
   "metadata": {},
   "outputs": [],
   "source": [
    "# Get the nuclei QC results\n",
    "qc = pd.read_csv(os.path.join(path_aggregation,'humanICM.PreQC.Harmony/cellQC_results.txt.gz'),\n",
    "                 sep='\\t')"
   ]
  },
  {
   "cell_type": "code",
   "execution_count": 11,
   "metadata": {},
   "outputs": [
    {
     "data": {
      "text/plain": [
       "(102524, 36601)"
      ]
     },
     "execution_count": 11,
     "metadata": {},
     "output_type": "execute_result"
    }
   ],
   "source": [
    "# Subset the h5ad to only the high quality nuclei\n",
    "adata = adata[adata.obs.index.isin(qc[~qc['outlier']]['Unnamed: 0'])].copy()\n",
    "adata.shape"
   ]
  },
  {
   "cell_type": "markdown",
   "metadata": {},
   "source": [
    "### Construct Basic PCA"
   ]
  },
  {
   "cell_type": "code",
   "execution_count": 9,
   "metadata": {},
   "outputs": [],
   "source": [
    "# No data normalization prior to highly variable gene detection with seurat v3 method\n",
    "# This should be run on count data (https://scanpy.readthedocs.io/en/stable/api/scanpy.pp.highly_variable_genes.html)\n",
    "sc.pp.highly_variable_genes(adata, n_top_genes = 2000, flavor = 'seurat_v3')"
   ]
  },
  {
   "cell_type": "code",
   "execution_count": 10,
   "metadata": {},
   "outputs": [
    {
     "data": {
      "text/html": [
       "<div>\n",
       "<style scoped>\n",
       "    .dataframe tbody tr th:only-of-type {\n",
       "        vertical-align: middle;\n",
       "    }\n",
       "\n",
       "    .dataframe tbody tr th {\n",
       "        vertical-align: top;\n",
       "    }\n",
       "\n",
       "    .dataframe thead th {\n",
       "        text-align: right;\n",
       "    }\n",
       "</style>\n",
       "<table border=\"1\" class=\"dataframe\">\n",
       "  <thead>\n",
       "    <tr style=\"text-align: right;\">\n",
       "      <th></th>\n",
       "      <th>gene_ids</th>\n",
       "      <th>feature_types</th>\n",
       "      <th>genome</th>\n",
       "      <th>highly_variable</th>\n",
       "      <th>highly_variable_rank</th>\n",
       "      <th>means</th>\n",
       "      <th>variances</th>\n",
       "      <th>variances_norm</th>\n",
       "    </tr>\n",
       "  </thead>\n",
       "  <tbody>\n",
       "    <tr>\n",
       "      <th>TNC</th>\n",
       "      <td>ENSG00000041982</td>\n",
       "      <td>Gene Expression</td>\n",
       "      <td>GRCh38-2020-A_premrna</td>\n",
       "      <td>True</td>\n",
       "      <td>0.0</td>\n",
       "      <td>0.079542</td>\n",
       "      <td>1.500857</td>\n",
       "      <td>13.563186</td>\n",
       "    </tr>\n",
       "    <tr>\n",
       "      <th>GPAM</th>\n",
       "      <td>ENSG00000119927</td>\n",
       "      <td>Gene Expression</td>\n",
       "      <td>GRCh38-2020-A_premrna</td>\n",
       "      <td>True</td>\n",
       "      <td>1.0</td>\n",
       "      <td>0.168741</td>\n",
       "      <td>3.281613</td>\n",
       "      <td>13.244156</td>\n",
       "    </tr>\n",
       "    <tr>\n",
       "      <th>ITLN1</th>\n",
       "      <td>ENSG00000179914</td>\n",
       "      <td>Gene Expression</td>\n",
       "      <td>GRCh38-2020-A_premrna</td>\n",
       "      <td>True</td>\n",
       "      <td>2.0</td>\n",
       "      <td>0.017450</td>\n",
       "      <td>0.219910</td>\n",
       "      <td>10.748438</td>\n",
       "    </tr>\n",
       "    <tr>\n",
       "      <th>PRG4</th>\n",
       "      <td>ENSG00000116690</td>\n",
       "      <td>Gene Expression</td>\n",
       "      <td>GRCh38-2020-A_premrna</td>\n",
       "      <td>True</td>\n",
       "      <td>3.0</td>\n",
       "      <td>0.011753</td>\n",
       "      <td>0.143547</td>\n",
       "      <td>10.729375</td>\n",
       "    </tr>\n",
       "    <tr>\n",
       "      <th>DEC1</th>\n",
       "      <td>ENSG00000173077</td>\n",
       "      <td>Gene Expression</td>\n",
       "      <td>GRCh38-2020-A_premrna</td>\n",
       "      <td>True</td>\n",
       "      <td>4.0</td>\n",
       "      <td>0.047716</td>\n",
       "      <td>0.608337</td>\n",
       "      <td>10.487271</td>\n",
       "    </tr>\n",
       "    <tr>\n",
       "      <th>AL110292.1</th>\n",
       "      <td>ENSG00000258081</td>\n",
       "      <td>Gene Expression</td>\n",
       "      <td>GRCh38-2020-A_premrna</td>\n",
       "      <td>True</td>\n",
       "      <td>5.0</td>\n",
       "      <td>0.016299</td>\n",
       "      <td>0.231497</td>\n",
       "      <td>10.405540</td>\n",
       "    </tr>\n",
       "    <tr>\n",
       "      <th>NRXN1</th>\n",
       "      <td>ENSG00000179915</td>\n",
       "      <td>Gene Expression</td>\n",
       "      <td>GRCh38-2020-A_premrna</td>\n",
       "      <td>True</td>\n",
       "      <td>6.0</td>\n",
       "      <td>0.102464</td>\n",
       "      <td>1.260660</td>\n",
       "      <td>9.352216</td>\n",
       "    </tr>\n",
       "    <tr>\n",
       "      <th>XKR4</th>\n",
       "      <td>ENSG00000206579</td>\n",
       "      <td>Gene Expression</td>\n",
       "      <td>GRCh38-2020-A_premrna</td>\n",
       "      <td>True</td>\n",
       "      <td>7.0</td>\n",
       "      <td>0.065604</td>\n",
       "      <td>0.743548</td>\n",
       "      <td>9.188559</td>\n",
       "    </tr>\n",
       "    <tr>\n",
       "      <th>LINC01411</th>\n",
       "      <td>ENSG00000249306</td>\n",
       "      <td>Gene Expression</td>\n",
       "      <td>GRCh38-2020-A_premrna</td>\n",
       "      <td>True</td>\n",
       "      <td>8.0</td>\n",
       "      <td>0.018513</td>\n",
       "      <td>0.185898</td>\n",
       "      <td>8.900578</td>\n",
       "    </tr>\n",
       "    <tr>\n",
       "      <th>PKN2-AS1</th>\n",
       "      <td>ENSG00000237505</td>\n",
       "      <td>Gene Expression</td>\n",
       "      <td>GRCh38-2020-A_premrna</td>\n",
       "      <td>True</td>\n",
       "      <td>9.0</td>\n",
       "      <td>0.077123</td>\n",
       "      <td>0.783621</td>\n",
       "      <td>8.069845</td>\n",
       "    </tr>\n",
       "  </tbody>\n",
       "</table>\n",
       "</div>"
      ],
      "text/plain": [
       "                   gene_ids    feature_types                 genome  \\\n",
       "TNC         ENSG00000041982  Gene Expression  GRCh38-2020-A_premrna   \n",
       "GPAM        ENSG00000119927  Gene Expression  GRCh38-2020-A_premrna   \n",
       "ITLN1       ENSG00000179914  Gene Expression  GRCh38-2020-A_premrna   \n",
       "PRG4        ENSG00000116690  Gene Expression  GRCh38-2020-A_premrna   \n",
       "DEC1        ENSG00000173077  Gene Expression  GRCh38-2020-A_premrna   \n",
       "AL110292.1  ENSG00000258081  Gene Expression  GRCh38-2020-A_premrna   \n",
       "NRXN1       ENSG00000179915  Gene Expression  GRCh38-2020-A_premrna   \n",
       "XKR4        ENSG00000206579  Gene Expression  GRCh38-2020-A_premrna   \n",
       "LINC01411   ENSG00000249306  Gene Expression  GRCh38-2020-A_premrna   \n",
       "PKN2-AS1    ENSG00000237505  Gene Expression  GRCh38-2020-A_premrna   \n",
       "\n",
       "            highly_variable  highly_variable_rank     means  variances  \\\n",
       "TNC                    True                   0.0  0.079542   1.500857   \n",
       "GPAM                   True                   1.0  0.168741   3.281613   \n",
       "ITLN1                  True                   2.0  0.017450   0.219910   \n",
       "PRG4                   True                   3.0  0.011753   0.143547   \n",
       "DEC1                   True                   4.0  0.047716   0.608337   \n",
       "AL110292.1             True                   5.0  0.016299   0.231497   \n",
       "NRXN1                  True                   6.0  0.102464   1.260660   \n",
       "XKR4                   True                   7.0  0.065604   0.743548   \n",
       "LINC01411              True                   8.0  0.018513   0.185898   \n",
       "PKN2-AS1               True                   9.0  0.077123   0.783621   \n",
       "\n",
       "            variances_norm  \n",
       "TNC              13.563186  \n",
       "GPAM             13.244156  \n",
       "ITLN1            10.748438  \n",
       "PRG4             10.729375  \n",
       "DEC1             10.487271  \n",
       "AL110292.1       10.405540  \n",
       "NRXN1             9.352216  \n",
       "XKR4              9.188559  \n",
       "LINC01411         8.900578  \n",
       "PKN2-AS1          8.069845  "
      ]
     },
     "execution_count": 10,
     "metadata": {},
     "output_type": "execute_result"
    }
   ],
   "source": [
    "# Top 10 highly variable genes\n",
    "adata.var[adata.var['highly_variable']].sort_values('highly_variable_rank').head(10)"
   ]
  },
  {
   "cell_type": "code",
   "execution_count": 11,
   "metadata": {},
   "outputs": [],
   "source": [
    "# Now normalize prior to PCA (and take log)\n",
    "# We use a normalization factor of 1e4 as is done in Seurat and scanpy default tutorials\n",
    "# but there are other reasonable choices here\n",
    "sc.pp.normalize_total(adata, target_sum=1e4)\n",
    "sc.pp.log1p(adata)"
   ]
  },
  {
   "cell_type": "code",
   "execution_count": 12,
   "metadata": {},
   "outputs": [],
   "source": [
    "# subset to highly variable genes\n",
    "adata.raw = adata\n",
    "adata = adata[:, adata.var.highly_variable]"
   ]
  },
  {
   "cell_type": "code",
   "execution_count": null,
   "metadata": {},
   "outputs": [],
   "source": [
    "# scale the data\n",
    "sc.pp.scale(adata, max_value=10)"
   ]
  },
  {
   "cell_type": "code",
   "execution_count": 14,
   "metadata": {},
   "outputs": [],
   "source": [
    "# Run PCA so we can feed that into harmony\n",
    "sc.tl.pca(adata, svd_solver='arpack')"
   ]
  },
  {
   "cell_type": "code",
   "execution_count": 15,
   "metadata": {},
   "outputs": [
    {
     "data": {
      "text/plain": [
       "0"
      ]
     },
     "execution_count": 15,
     "metadata": {},
     "output_type": "execute_result"
    }
   ],
   "source": [
    "# Make a sub-directory to store the post-QC files temporarily\n",
    "os.system('mkdir ' + os.path.join(path_aggregation,'humanICM.PostQC.Map'))"
   ]
  },
  {
   "cell_type": "code",
   "execution_count": 16,
   "metadata": {},
   "outputs": [],
   "source": [
    "# We will save this PC-space in case we want to re-use it for harmony again later\n",
    "pd.DataFrame(adata.obsm['X_pca']).to_csv(os.path.join(path_aggregation,'humanICM.PostQC.Map/PC_unadjust.txt.gz'),\n",
    "                                          sep='\\t', index=None, header=None, compression='gzip')"
   ]
  },
  {
   "cell_type": "markdown",
   "metadata": {},
   "source": [
    "### Run Harmony to align the PC-space by sample"
   ]
  },
  {
   "cell_type": "code",
   "execution_count": 17,
   "metadata": {},
   "outputs": [],
   "source": [
    "# Make a batch variable -- we want to align across biological individuals\n",
    "# Therefore we will use the \"individual\" variable in the dataset\n",
    "adata.obs['batch'] = adata.obs['individual'].astype('category')"
   ]
  },
  {
   "cell_type": "code",
   "execution_count": 18,
   "metadata": {},
   "outputs": [
    {
     "name": "stdout",
     "output_type": "stream",
     "text": [
      "\tInitialization is completed.\n",
      "\tCompleted 1 / 10 iteration(s).\n",
      "\tCompleted 2 / 10 iteration(s).\n",
      "\tCompleted 3 / 10 iteration(s).\n",
      "Reach convergence after 3 iteration(s).\n"
     ]
    }
   ],
   "source": [
    "# Run Harmony to align these PCs across individual\n",
    "Z = harmonize(adata.obsm['X_pca'], adata.obs, batch_key = 'batch')"
   ]
  },
  {
   "cell_type": "code",
   "execution_count": 19,
   "metadata": {},
   "outputs": [],
   "source": [
    "# Save Harmony PC space for later, in case we need to re-run things\n",
    "pd.DataFrame(Z).to_csv(os.path.join(path_aggregation,'humanICM.PostQC.Map/PC_harmony_adjust.txt.gz'),\n",
    "                                       sep='\\t', index=None, header=None, compression='gzip')"
   ]
  },
  {
   "cell_type": "markdown",
   "metadata": {},
   "source": [
    "### Construct a global map using the aligned PCs"
   ]
  },
  {
   "cell_type": "code",
   "execution_count": 20,
   "metadata": {},
   "outputs": [
    {
     "name": "stdout",
     "output_type": "stream",
     "text": [
      "WARNING: Your filename has more than two extensions: ['.PreQC', '.Raw', '.h5ad'].\n",
      "Only considering the two last: ['.Raw', '.h5ad'].\n",
      "WARNING: Your filename has more than two extensions: ['.PreQC', '.Raw', '.h5ad'].\n",
      "Only considering the two last: ['.Raw', '.h5ad'].\n"
     ]
    }
   ],
   "source": [
    "# This is the raw data\n",
    "adata = sc.read(os.path.join(path_aggregation,'humanICM.PreQC.Raw.h5ad'))"
   ]
  },
  {
   "cell_type": "code",
   "execution_count": 21,
   "metadata": {},
   "outputs": [],
   "source": [
    "# Get the nuclei QC results\n",
    "qc = pd.read_csv(os.path.join(path_aggregation,'humanICM.PreQC.Harmony/cellQC_results.txt.gz'),\n",
    "                 sep='\\t')"
   ]
  },
  {
   "cell_type": "code",
   "execution_count": 22,
   "metadata": {},
   "outputs": [
    {
     "data": {
      "text/plain": [
       "(102524, 36601)"
      ]
     },
     "execution_count": 22,
     "metadata": {},
     "output_type": "execute_result"
    }
   ],
   "source": [
    "# Subset the h5ad to only the high quality nuclei\n",
    "adata = adata[adata.obs.index.isin(qc[~qc['outlier']]['Unnamed: 0'])].copy()\n",
    "adata.shape"
   ]
  },
  {
   "cell_type": "code",
   "execution_count": 23,
   "metadata": {},
   "outputs": [
    {
     "name": "stdout",
     "output_type": "stream",
     "text": [
      "102524\n"
     ]
    }
   ],
   "source": [
    "# Read in the calculated harmony PCs\n",
    "pcs_harmony = pd.read_csv(os.path.join(path_aggregation,'humanICM.PostQC.Map/PC_harmony_adjust.txt.gz'), \n",
    "                          sep = '\\t', header = None)\n",
    "print(pcs_harmony.shape[0])"
   ]
  },
  {
   "cell_type": "code",
   "execution_count": 24,
   "metadata": {},
   "outputs": [],
   "source": [
    "# Add the harmony-adjusted PCs the adata object\n",
    "adata.obsm['PC_harmony'] = np.array(pcs_harmony)\n",
    "del pcs_harmony"
   ]
  },
  {
   "cell_type": "code",
   "execution_count": 25,
   "metadata": {},
   "outputs": [],
   "source": [
    "sc.settings.verbosity = 3"
   ]
  },
  {
   "cell_type": "code",
   "execution_count": 26,
   "metadata": {},
   "outputs": [
    {
     "name": "stdout",
     "output_type": "stream",
     "text": [
      "computing neighbors\n",
      "    finished: added to `.uns['PC_harmony']`\n",
      "    `.obsp['PC_harmony_distances']`, distances for each pair of neighbors\n",
      "    `.obsp['PC_harmony_connectivities']`, weighted adjacency matrix (0:01:07)\n",
      "CPU times: user 1min 6s, sys: 623 ms, total: 1min 7s\n",
      "Wall time: 1min 7s\n"
     ]
    }
   ],
   "source": [
    "%%time\n",
    "# neighbor calculation for harmony-adjusted PCs\n",
    "# using cosine distance\n",
    "sc.pp.neighbors(adata, n_neighbors=15, n_pcs=50, use_rep = 'PC_harmony', metric = 'cosine', key_added = 'PC_harmony')"
   ]
  },
  {
   "cell_type": "code",
   "execution_count": 27,
   "metadata": {},
   "outputs": [
    {
     "name": "stdout",
     "output_type": "stream",
     "text": [
      "computing UMAP\n",
      "    finished: added\n",
      "    'X_umap', UMAP coordinates (adata.obsm) (0:01:42)\n",
      "CPU times: user 1min 42s, sys: 64.6 ms, total: 1min 42s\n",
      "Wall time: 1min 42s\n"
     ]
    }
   ],
   "source": [
    "%%time\n",
    "# UMAP with Harmony adjustment\n",
    "# Note: Default min_dist in scanpy is 0.5 but default in umap-learn is 0.1. \n",
    "# I have found 0.2 to work pretty well in the past and use that here.\n",
    "sc.tl.umap(adata, neighbors_key = 'PC_harmony', min_dist = 0.2)\n",
    "adata.obsm['UMAP_PC_harmony'] = adata.obsm['X_umap'].copy() # save these UMAP to a specific place"
   ]
  },
  {
   "cell_type": "code",
   "execution_count": 28,
   "metadata": {},
   "outputs": [
    {
     "name": "stdout",
     "output_type": "stream",
     "text": [
      "running Leiden clustering\n",
      "    finished: found 16 clusters and added\n",
      "    'leiden0.5', the cluster labels (adata.obs, categorical) (0:00:34)\n",
      "CPU times: user 34.8 s, sys: 157 ms, total: 35 s\n",
      "Wall time: 35.1 s\n"
     ]
    }
   ],
   "source": [
    "%%time\n",
    "# leiden cluster at 0.5 resolution\n",
    "sc.tl.leiden(adata, resolution = 0.5, key_added = 'leiden0.5', neighbors_key = 'PC_harmony')"
   ]
  },
  {
   "cell_type": "code",
   "execution_count": 29,
   "metadata": {},
   "outputs": [
    {
     "data": {
      "image/png": "[encoded data removed]",
      "text/plain": [
       "<Figure size 432x432 with 1 Axes>"
      ]
     },
     "metadata": {},
     "output_type": "display_data"
    }
   ],
   "source": [
    "f,ax = plt.subplots(1,1,figsize=(6,6))\n",
    "adata.obsm['X_umap'] = adata.obsm['UMAP_PC_harmony'].copy()\n",
    "sc.pl.umap(adata, color = 'leiden0.5', palette = sc.pl.palettes.vega_20,ax=ax)"
   ]
  },
  {
   "cell_type": "code",
   "execution_count": 6,
   "metadata": {},
   "outputs": [
    {
     "data": {
      "image/png": "[encoded data removed]",
      "text/plain": [
       "<Figure size 853.92x475.2 with 4 Axes>"
      ]
     },
     "metadata": {
      "needs_background": "light"
     },
     "output_type": "display_data"
    }
   ],
   "source": [
    "# Look at some of the markers we know from previous work\n",
    "sc.pl.dotplot(adata, ['RYR2','TTN','DCN','NEGR1','VWF','EMCN','GUCY1A2','EGFLAM',\n",
    "                      'F13A1','CD163','NRG1','NRG3','SKAP1','IL7R','ITGA8','MYH11',\n",
    "                      'MMRN1','CCL21','GPAM','ADIPOQ','NRXN1','XKR4',\n",
    "                      'TOP2A','E2F7','KIT','CPA3', 'ITLN1','C3'],\n",
    "              groupby = 'leiden0.5', standard_scale='var')"
   ]
  },
  {
   "cell_type": "code",
   "execution_count": 33,
   "metadata": {},
   "outputs": [
    {
     "data": {
      "text/html": [
       "<div>\n",
       "<style scoped>\n",
       "    .dataframe tbody tr th:only-of-type {\n",
       "        vertical-align: middle;\n",
       "    }\n",
       "\n",
       "    .dataframe tbody tr th {\n",
       "        vertical-align: top;\n",
       "    }\n",
       "\n",
       "    .dataframe thead th {\n",
       "        text-align: right;\n",
       "    }\n",
       "</style>\n",
       "<table border=\"1\" class=\"dataframe\">\n",
       "  <thead>\n",
       "    <tr style=\"text-align: right;\">\n",
       "      <th>individual</th>\n",
       "      <th>1364</th>\n",
       "      <th>1452</th>\n",
       "      <th>1579</th>\n",
       "      <th>1650</th>\n",
       "      <th>1690</th>\n",
       "      <th>1693</th>\n",
       "      <th>1703</th>\n",
       "      <th>1716</th>\n",
       "      <th>1733</th>\n",
       "      <th>1739</th>\n",
       "      <th>1763</th>\n",
       "      <th>1773</th>\n",
       "      <th>1785</th>\n",
       "      <th>1800</th>\n",
       "      <th>1801</th>\n",
       "    </tr>\n",
       "    <tr>\n",
       "      <th>leiden0.5</th>\n",
       "      <th></th>\n",
       "      <th></th>\n",
       "      <th></th>\n",
       "      <th></th>\n",
       "      <th></th>\n",
       "      <th></th>\n",
       "      <th></th>\n",
       "      <th></th>\n",
       "      <th></th>\n",
       "      <th></th>\n",
       "      <th></th>\n",
       "      <th></th>\n",
       "      <th></th>\n",
       "      <th></th>\n",
       "      <th></th>\n",
       "    </tr>\n",
       "  </thead>\n",
       "  <tbody>\n",
       "    <tr>\n",
       "      <th>0</th>\n",
       "      <td>2569</td>\n",
       "      <td>2706</td>\n",
       "      <td>254</td>\n",
       "      <td>2650</td>\n",
       "      <td>1479</td>\n",
       "      <td>1231</td>\n",
       "      <td>634</td>\n",
       "      <td>4518</td>\n",
       "      <td>819</td>\n",
       "      <td>3138</td>\n",
       "      <td>1790</td>\n",
       "      <td>2366</td>\n",
       "      <td>2750</td>\n",
       "      <td>2646</td>\n",
       "      <td>1858</td>\n",
       "    </tr>\n",
       "    <tr>\n",
       "      <th>1</th>\n",
       "      <td>1158</td>\n",
       "      <td>994</td>\n",
       "      <td>625</td>\n",
       "      <td>2691</td>\n",
       "      <td>1498</td>\n",
       "      <td>801</td>\n",
       "      <td>2085</td>\n",
       "      <td>1208</td>\n",
       "      <td>1381</td>\n",
       "      <td>1184</td>\n",
       "      <td>1817</td>\n",
       "      <td>3718</td>\n",
       "      <td>1307</td>\n",
       "      <td>972</td>\n",
       "      <td>1041</td>\n",
       "    </tr>\n",
       "    <tr>\n",
       "      <th>2</th>\n",
       "      <td>1254</td>\n",
       "      <td>884</td>\n",
       "      <td>831</td>\n",
       "      <td>1996</td>\n",
       "      <td>1029</td>\n",
       "      <td>480</td>\n",
       "      <td>477</td>\n",
       "      <td>791</td>\n",
       "      <td>781</td>\n",
       "      <td>869</td>\n",
       "      <td>1320</td>\n",
       "      <td>1368</td>\n",
       "      <td>335</td>\n",
       "      <td>432</td>\n",
       "      <td>665</td>\n",
       "    </tr>\n",
       "    <tr>\n",
       "      <th>3</th>\n",
       "      <td>635</td>\n",
       "      <td>719</td>\n",
       "      <td>305</td>\n",
       "      <td>1766</td>\n",
       "      <td>814</td>\n",
       "      <td>228</td>\n",
       "      <td>224</td>\n",
       "      <td>890</td>\n",
       "      <td>518</td>\n",
       "      <td>981</td>\n",
       "      <td>885</td>\n",
       "      <td>1014</td>\n",
       "      <td>739</td>\n",
       "      <td>332</td>\n",
       "      <td>570</td>\n",
       "    </tr>\n",
       "    <tr>\n",
       "      <th>4</th>\n",
       "      <td>686</td>\n",
       "      <td>886</td>\n",
       "      <td>80</td>\n",
       "      <td>931</td>\n",
       "      <td>434</td>\n",
       "      <td>287</td>\n",
       "      <td>1023</td>\n",
       "      <td>532</td>\n",
       "      <td>282</td>\n",
       "      <td>402</td>\n",
       "      <td>671</td>\n",
       "      <td>1265</td>\n",
       "      <td>538</td>\n",
       "      <td>612</td>\n",
       "      <td>357</td>\n",
       "    </tr>\n",
       "    <tr>\n",
       "      <th>5</th>\n",
       "      <td>275</td>\n",
       "      <td>197</td>\n",
       "      <td>175</td>\n",
       "      <td>386</td>\n",
       "      <td>214</td>\n",
       "      <td>96</td>\n",
       "      <td>186</td>\n",
       "      <td>125</td>\n",
       "      <td>92</td>\n",
       "      <td>537</td>\n",
       "      <td>256</td>\n",
       "      <td>241</td>\n",
       "      <td>1734</td>\n",
       "      <td>89</td>\n",
       "      <td>249</td>\n",
       "    </tr>\n",
       "    <tr>\n",
       "      <th>6</th>\n",
       "      <td>203</td>\n",
       "      <td>78</td>\n",
       "      <td>30</td>\n",
       "      <td>300</td>\n",
       "      <td>220</td>\n",
       "      <td>95</td>\n",
       "      <td>89</td>\n",
       "      <td>70</td>\n",
       "      <td>182</td>\n",
       "      <td>155</td>\n",
       "      <td>233</td>\n",
       "      <td>241</td>\n",
       "      <td>155</td>\n",
       "      <td>126</td>\n",
       "      <td>90</td>\n",
       "    </tr>\n",
       "    <tr>\n",
       "      <th>7</th>\n",
       "      <td>100</td>\n",
       "      <td>79</td>\n",
       "      <td>117</td>\n",
       "      <td>172</td>\n",
       "      <td>89</td>\n",
       "      <td>55</td>\n",
       "      <td>186</td>\n",
       "      <td>109</td>\n",
       "      <td>73</td>\n",
       "      <td>106</td>\n",
       "      <td>152</td>\n",
       "      <td>407</td>\n",
       "      <td>91</td>\n",
       "      <td>244</td>\n",
       "      <td>69</td>\n",
       "    </tr>\n",
       "    <tr>\n",
       "      <th>8</th>\n",
       "      <td>36</td>\n",
       "      <td>27</td>\n",
       "      <td>51</td>\n",
       "      <td>57</td>\n",
       "      <td>81</td>\n",
       "      <td>111</td>\n",
       "      <td>395</td>\n",
       "      <td>41</td>\n",
       "      <td>169</td>\n",
       "      <td>109</td>\n",
       "      <td>74</td>\n",
       "      <td>349</td>\n",
       "      <td>85</td>\n",
       "      <td>91</td>\n",
       "      <td>18</td>\n",
       "    </tr>\n",
       "    <tr>\n",
       "      <th>9</th>\n",
       "      <td>5</td>\n",
       "      <td>7</td>\n",
       "      <td>0</td>\n",
       "      <td>42</td>\n",
       "      <td>1</td>\n",
       "      <td>67</td>\n",
       "      <td>33</td>\n",
       "      <td>0</td>\n",
       "      <td>55</td>\n",
       "      <td>300</td>\n",
       "      <td>149</td>\n",
       "      <td>294</td>\n",
       "      <td>19</td>\n",
       "      <td>581</td>\n",
       "      <td>7</td>\n",
       "    </tr>\n",
       "    <tr>\n",
       "      <th>10</th>\n",
       "      <td>52</td>\n",
       "      <td>119</td>\n",
       "      <td>5</td>\n",
       "      <td>136</td>\n",
       "      <td>37</td>\n",
       "      <td>9</td>\n",
       "      <td>89</td>\n",
       "      <td>113</td>\n",
       "      <td>89</td>\n",
       "      <td>74</td>\n",
       "      <td>132</td>\n",
       "      <td>94</td>\n",
       "      <td>106</td>\n",
       "      <td>59</td>\n",
       "      <td>95</td>\n",
       "    </tr>\n",
       "    <tr>\n",
       "      <th>11</th>\n",
       "      <td>0</td>\n",
       "      <td>0</td>\n",
       "      <td>0</td>\n",
       "      <td>0</td>\n",
       "      <td>0</td>\n",
       "      <td>0</td>\n",
       "      <td>0</td>\n",
       "      <td>0</td>\n",
       "      <td>0</td>\n",
       "      <td>0</td>\n",
       "      <td>0</td>\n",
       "      <td>0</td>\n",
       "      <td>671</td>\n",
       "      <td>0</td>\n",
       "      <td>0</td>\n",
       "    </tr>\n",
       "    <tr>\n",
       "      <th>12</th>\n",
       "      <td>23</td>\n",
       "      <td>32</td>\n",
       "      <td>27</td>\n",
       "      <td>27</td>\n",
       "      <td>144</td>\n",
       "      <td>8</td>\n",
       "      <td>28</td>\n",
       "      <td>62</td>\n",
       "      <td>9</td>\n",
       "      <td>9</td>\n",
       "      <td>58</td>\n",
       "      <td>14</td>\n",
       "      <td>75</td>\n",
       "      <td>8</td>\n",
       "      <td>31</td>\n",
       "    </tr>\n",
       "    <tr>\n",
       "      <th>13</th>\n",
       "      <td>5</td>\n",
       "      <td>28</td>\n",
       "      <td>0</td>\n",
       "      <td>100</td>\n",
       "      <td>5</td>\n",
       "      <td>1</td>\n",
       "      <td>5</td>\n",
       "      <td>6</td>\n",
       "      <td>7</td>\n",
       "      <td>6</td>\n",
       "      <td>40</td>\n",
       "      <td>51</td>\n",
       "      <td>25</td>\n",
       "      <td>22</td>\n",
       "      <td>8</td>\n",
       "    </tr>\n",
       "    <tr>\n",
       "      <th>14</th>\n",
       "      <td>4</td>\n",
       "      <td>4</td>\n",
       "      <td>0</td>\n",
       "      <td>1</td>\n",
       "      <td>4</td>\n",
       "      <td>3</td>\n",
       "      <td>1</td>\n",
       "      <td>1</td>\n",
       "      <td>182</td>\n",
       "      <td>0</td>\n",
       "      <td>0</td>\n",
       "      <td>4</td>\n",
       "      <td>0</td>\n",
       "      <td>2</td>\n",
       "      <td>0</td>\n",
       "    </tr>\n",
       "    <tr>\n",
       "      <th>15</th>\n",
       "      <td>0</td>\n",
       "      <td>1</td>\n",
       "      <td>0</td>\n",
       "      <td>5</td>\n",
       "      <td>0</td>\n",
       "      <td>2</td>\n",
       "      <td>8</td>\n",
       "      <td>1</td>\n",
       "      <td>112</td>\n",
       "      <td>0</td>\n",
       "      <td>0</td>\n",
       "      <td>7</td>\n",
       "      <td>5</td>\n",
       "      <td>4</td>\n",
       "      <td>1</td>\n",
       "    </tr>\n",
       "  </tbody>\n",
       "</table>\n",
       "</div>"
      ],
      "text/plain": [
       "individual  1364  1452  1579  1650  1690  1693  1703  1716  1733  1739  1763  \\\n",
       "leiden0.5                                                                      \n",
       "0           2569  2706   254  2650  1479  1231   634  4518   819  3138  1790   \n",
       "1           1158   994   625  2691  1498   801  2085  1208  1381  1184  1817   \n",
       "2           1254   884   831  1996  1029   480   477   791   781   869  1320   \n",
       "3            635   719   305  1766   814   228   224   890   518   981   885   \n",
       "4            686   886    80   931   434   287  1023   532   282   402   671   \n",
       "5            275   197   175   386   214    96   186   125    92   537   256   \n",
       "6            203    78    30   300   220    95    89    70   182   155   233   \n",
       "7            100    79   117   172    89    55   186   109    73   106   152   \n",
       "8             36    27    51    57    81   111   395    41   169   109    74   \n",
       "9              5     7     0    42     1    67    33     0    55   300   149   \n",
       "10            52   119     5   136    37     9    89   113    89    74   132   \n",
       "11             0     0     0     0     0     0     0     0     0     0     0   \n",
       "12            23    32    27    27   144     8    28    62     9     9    58   \n",
       "13             5    28     0   100     5     1     5     6     7     6    40   \n",
       "14             4     4     0     1     4     3     1     1   182     0     0   \n",
       "15             0     1     0     5     0     2     8     1   112     0     0   \n",
       "\n",
       "individual  1773  1785  1800  1801  \n",
       "leiden0.5                           \n",
       "0           2366  2750  2646  1858  \n",
       "1           3718  1307   972  1041  \n",
       "2           1368   335   432   665  \n",
       "3           1014   739   332   570  \n",
       "4           1265   538   612   357  \n",
       "5            241  1734    89   249  \n",
       "6            241   155   126    90  \n",
       "7            407    91   244    69  \n",
       "8            349    85    91    18  \n",
       "9            294    19   581     7  \n",
       "10            94   106    59    95  \n",
       "11             0   671     0     0  \n",
       "12            14    75     8    31  \n",
       "13            51    25    22     8  \n",
       "14             4     0     2     0  \n",
       "15             7     5     4     1  "
      ]
     },
     "execution_count": 33,
     "metadata": {},
     "output_type": "execute_result"
    }
   ],
   "source": [
    "# Representation of cluster by sample\n",
    "# Note: Cluster 11 is entirely from one borderline sample (1785), we should be cautious here\n",
    "# Note: Cluster 14 is largely from 1733 -- this appears to be a small myocyte subcluster\n",
    "# Note: Cluster 15 is largely from 1733 -- this appears to be an epicardial population\n",
    "pd.crosstab(adata.obs['leiden0.5'], adata.obs['individual'])"
   ]
  },
  {
   "cell_type": "code",
   "execution_count": 34,
   "metadata": {},
   "outputs": [],
   "source": [
    "# Save out this map\n",
    "adata.write(os.path.join(path_aggregation,'humanICM.PostQC.Map/PostQC.Neighbor.UMAP.h5ad'))"
   ]
  },
  {
   "cell_type": "code",
   "execution_count": null,
   "metadata": {},
   "outputs": [],
   "source": []
  }
 ],
 "metadata": {
  "kernelspec": {
   "display_name": "Python 3",
   "language": "python",
   "name": "python3"
  },
  "language_info": {
   "codemirror_mode": {
    "name": "ipython",
    "version": 3
   },
   "file_extension": ".py",
   "mimetype": "text/x-python",
   "name": "python",
   "nbconvert_exporter": "python",
   "pygments_lexer": "ipython3",
   "version": "3.7.3"
  },
  "toc": {
   "base_numbering": 1,
   "nav_menu": {},
   "number_sections": true,
   "sideBar": true,
   "skip_h1_title": false,
   "title_cell": "Table of Contents",
   "title_sidebar": "Contents",
   "toc_cell": false,
   "toc_position": {},
   "toc_section_display": true,
   "toc_window_display": false
  }
 },
 "nbformat": 4,
 "nbformat_minor": 2
}
