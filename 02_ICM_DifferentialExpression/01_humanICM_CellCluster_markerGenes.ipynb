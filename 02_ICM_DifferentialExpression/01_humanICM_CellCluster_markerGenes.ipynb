{
 "cells": [
  {
   "cell_type": "markdown",
   "metadata": {},
   "source": [
    "# Marker gene selection for global clusters\n",
    "We will calculate genes that are selectively expressed in each global cluster using two tests:\n",
    "1. Calculation of an Area-Under-the-Curve (AUC) for each gene comparing expression in the target cluster to all other clusters\n",
    "2. Formal differential expression model on summed counts across samples using limma-voom\n",
    "\n",
    "We will also calculate some baseline information for each gene, such as how highly expressed it is in each cluster in both disease and healthy."
   ]
  },
  {
   "cell_type": "code",
   "execution_count": 1,
   "metadata": {},
   "outputs": [],
   "source": [
    "%matplotlib inline\n",
    "import matplotlib.pyplot as plt\n",
    "plt.style.use('seaborn-white')"
   ]
  },
  {
   "cell_type": "code",
   "execution_count": 2,
   "metadata": {},
   "outputs": [
    {
     "name": "stderr",
     "output_type": "stream",
     "text": [
      "/home/unix/chaffin/.local/lib/python3.7/site-packages/rpy2/robjects/pandas2ri.py:15: FutureWarning: pandas.core.index is deprecated and will be removed in a future version.  The public classes are available in the top-level namespace.\n",
      "  from pandas.core.index import Index as PandasIndex\n"
     ]
    }
   ],
   "source": [
    "# Libraries\n",
    "import matplotlib\n",
    "import matplotlib.pyplot as plt\n",
    "import pandas as pd\n",
    "import numpy as np\n",
    "import re\n",
    "import os\n",
    "import scanpy as sc\n",
    "\n",
    "# Using rpy2 to run R code for differential expression testing\n",
    "import rpy2\n",
    "import rpy2.situation as rsetup\n",
    "import rpy2.robjects as ro\n",
    "from rpy2.robjects.packages import importr\n",
    "from rpy2.robjects import r, pandas2ri\n",
    "from rpy2.robjects.conversion import localconverter\n",
    "\n",
    "import warnings"
   ]
  },
  {
   "cell_type": "code",
   "execution_count": 3,
   "metadata": {},
   "outputs": [],
   "source": [
    "# R packages required\n",
    "base = importr('base')\n",
    "edgeR = importr('edgeR')\n",
    "DESeq2 = importr('DESeq2')\n",
    "limma = importr('limma')\n",
    "stats = importr('stats')\n",
    "grdevices = importr('grDevices')"
   ]
  },
  {
   "cell_type": "code",
   "execution_count": 4,
   "metadata": {},
   "outputs": [
    {
     "name": "stdout",
     "output_type": "stream",
     "text": [
      "scanpy: 1.7.2\n",
      "pandas: 1.2.4\n",
      "numpy: 1.18.1\n",
      "rpy2: 3.0.5\n"
     ]
    }
   ],
   "source": [
    "# Python package versions\n",
    "print('scanpy: ' + sc.__version__)\n",
    "print('pandas: ' + pd.__version__)\n",
    "print('numpy: ' + np.__version__)\n",
    "print('rpy2: ' + rpy2.__version__)"
   ]
  },
  {
   "cell_type": "code",
   "execution_count": 5,
   "metadata": {},
   "outputs": [
    {
     "name": "stdout",
     "output_type": "stream",
     "text": [
      "R version: 3.6.0\n",
      "edgeR: 3.30.3\n",
      "DESeq2: 1.20.0\n",
      "limma: 3.44.3\n",
      "stats: 3.6.0\n",
      "grdevices: 3.6.0\n"
     ]
    }
   ],
   "source": [
    "# R package version\n",
    "print('R version: ' + base.__version__)\n",
    "print('edgeR: ' + edgeR.__version__)\n",
    "print('DESeq2: ' + DESeq2.__version__)\n",
    "print('limma: ' + limma.__version__)\n",
    "print('stats: ' + stats.__version__)\n",
    "print('grdevices: ' + grdevices.__version__)"
   ]
  },
  {
   "cell_type": "code",
   "execution_count": 4,
   "metadata": {},
   "outputs": [],
   "source": [
    "# Turn off some annoying FutureWarnings\n",
    "warnings.simplefilter(action='ignore', category=FutureWarning)"
   ]
  },
  {
   "cell_type": "markdown",
   "metadata": {},
   "source": [
    "### Set path for aggregation data and output data"
   ]
  },
  {
   "cell_type": "code",
   "execution_count": 5,
   "metadata": {},
   "outputs": [],
   "source": [
    "path_aggregation = '../../data/aggregation'\n",
    "path_markers = '../../results/markergenes'\n",
    "path_gtf = '../../data/misc/GRCh38-2020-A_premrna.gtf' # This was the GTF used in CellRanger processing"
   ]
  },
  {
   "cell_type": "code",
   "execution_count": null,
   "metadata": {},
   "outputs": [],
   "source": [
    "os.system('mkdir ' + path_markers)"
   ]
  },
  {
   "cell_type": "markdown",
   "metadata": {},
   "source": [
    "## Approach 1: AUC calculation, across disease groups and within disease group\n",
    "Calculate Cell-Level Marker Genes (AUC/logFC) using the Wilcoxon test, and then derive an AUC from this result."
   ]
  },
  {
   "cell_type": "code",
   "execution_count": 9,
   "metadata": {},
   "outputs": [
    {
     "name": "stderr",
     "output_type": "stream",
     "text": [
      "WARNING: Your filename has more than two extensions: ['.Neighbor', '.UMAP', '.Freeze1', '.h5ad'].\n",
      "Only considering the two last: ['.Freeze1', '.h5ad'].\n",
      "WARNING: Your filename has more than two extensions: ['.Neighbor', '.UMAP', '.Freeze1', '.h5ad'].\n",
      "Only considering the two last: ['.Freeze1', '.h5ad'].\n"
     ]
    }
   ],
   "source": [
    "# Read in the snRNAseq map\n",
    "adata = sc.read(os.path.join(path_aggregation,'humanICM.PostQC.Map/PostQC.Neighbor.UMAP.Freeze1.h5ad'))"
   ]
  },
  {
   "cell_type": "code",
   "execution_count": 11,
   "metadata": {},
   "outputs": [],
   "source": [
    "# Log-Normalize Data -- we want cell-level normalization for the AUC test\n",
    "sc.pp.normalize_total(adata, target_sum = 1e4)\n",
    "sc.pp.log1p(adata)"
   ]
  },
  {
   "cell_type": "markdown",
   "metadata": {},
   "source": [
    "**Across both ICM and NF samples**"
   ]
  },
  {
   "cell_type": "code",
   "execution_count": 12,
   "metadata": {},
   "outputs": [],
   "source": [
    "# Do a basic wilcoxon test comparing expression of each gene in the target cluster\n",
    "# to expression in all other clusters. We can derive an AUC measure from this statistic.\n",
    "sc.tl.rank_genes_groups(adata, 'leiden0.5', method='wilcoxon', n_genes = adata.shape[1])"
   ]
  },
  {
   "cell_type": "code",
   "execution_count": 13,
   "metadata": {},
   "outputs": [],
   "source": [
    "# Build a dataframe of the wilcoxon test\n",
    "allmerge = []\n",
    "for q in range(len(adata.obs['leiden0.5'].unique())):\n",
    "    forframe = {}\n",
    "    for i in adata.uns['rank_genes_groups'].keys():\n",
    "        if i =='params':\n",
    "            continue\n",
    "        newcol = []\n",
    "        sub = adata.uns['rank_genes_groups'][i].tolist()\n",
    "        for s in sub:\n",
    "            newcol.append(s[q])\n",
    "        forframe[i] = newcol\n",
    "    wilcox = pd.DataFrame(forframe)\n",
    "    wilcox['cluster'] = adata.uns['rank_genes_groups']['names'].dtype.names[q]\n",
    "    allmerge.append(wilcox)\n",
    "fullresults = pd.concat(allmerge)"
   ]
  },
  {
   "cell_type": "code",
   "execution_count": 14,
   "metadata": {},
   "outputs": [],
   "source": [
    "# Calculate the number of nuclei in the target cluster and all other clusters\n",
    "# We will use this to derive an AUC from the wilcoxon test statistic\n",
    "nlookup = pd.DataFrame(adata.obs['leiden0.5'].value_counts()).reset_index()\n",
    "nlookup.columns = ['cluster', 'n1']\n",
    "nlookup['n2'] = adata.shape[0] - nlookup['n1']"
   ]
  },
  {
   "cell_type": "code",
   "execution_count": 15,
   "metadata": {},
   "outputs": [],
   "source": [
    "# Merge in the cluster counts\n",
    "fullresults = fullresults.merge(nlookup, on = 'cluster', how='left')\n",
    "\n",
    "# Calculate the U statistic from the wilcoxon ranked sum test W statistic\n",
    "fullresults['U'] = (fullresults['scores'] * np.sqrt((fullresults['n1']*fullresults['n2']*(fullresults['n1'] + fullresults['n2'] + 1)) / 12)) + ((fullresults['n1'] * fullresults['n2']) / 2)\n",
    "\n",
    "# Convert the U-statistic into an AUC\n",
    "fullresults['AUC'] = fullresults['U']/(fullresults['n1'] * fullresults['n2'])"
   ]
  },
  {
   "cell_type": "code",
   "execution_count": 16,
   "metadata": {},
   "outputs": [],
   "source": [
    "# Save the marker gene lists\n",
    "fullresults.to_csv(os.path.join(path_markers ,'humanICM.ICM_and_NF.AUC.markers.txt'),\n",
    "                   sep='\\t',index=None,na_rep='NA')"
   ]
  },
  {
   "cell_type": "markdown",
   "metadata": {},
   "source": [
    "## Approach 2: Calculate Sample-Level Marker Genes (Limma-Voom)\n",
    "An inherent advantage to this model is that it accounts for the intercorrelation between nuclei from the same sample, and therefore the p-value is a bit more reliable. Several papers have suggested this is a viable strategy for differential expression testing. Additionally, it will weight cell types more evenly than the AUC which has a bias for cell types of very different prevalence. Notably, any test for marker genes will still have some inherent bias though, as the clusters were defined based on the same underlying expression data going into the differential expression test (https://www.ncbi.nlm.nih.gov/pmc/articles/PMC6582955/). Therefore we think of this as more of a strategy to identify the genes that most distinguish cell types than as a robust quantification."
   ]
  },
  {
   "cell_type": "code",
   "execution_count": 6,
   "metadata": {},
   "outputs": [
    {
     "name": "stdout",
     "output_type": "stream",
     "text": [
      "WARNING: Your filename has more than two extensions: ['.Neighbor', '.UMAP', '.Freeze1', '.h5ad'].\n",
      "Only considering the two last: ['.Freeze1', '.h5ad'].\n",
      "WARNING: Your filename has more than two extensions: ['.Neighbor', '.UMAP', '.Freeze1', '.h5ad'].\n",
      "Only considering the two last: ['.Freeze1', '.h5ad'].\n"
     ]
    }
   ],
   "source": [
    "# Read in the snRNAseq map\n",
    "adata = sc.read(os.path.join(path_aggregation,'humanICM.PostQC.Map/PostQC.Neighbor.UMAP.Freeze1.h5ad'))"
   ]
  },
  {
   "cell_type": "markdown",
   "metadata": {},
   "source": [
    "**Across both ICM and NF samples**"
   ]
  },
  {
   "cell_type": "code",
   "execution_count": 7,
   "metadata": {},
   "outputs": [],
   "source": [
    "# Get a tabulation of number of cells from each sample in each cluster\n",
    "# Determine which samples to aggregate within each cluster\n",
    "# For exceptionally rare clusters, this aggregation will be problematic\n",
    "# We will insist that a cluster have more than 20 nuclei to be summed\n",
    "ct = pd.crosstab(adata.obs['leiden0.5'], adata.obs['individual'])\n",
    "ind_dict = {}\n",
    "for cell_type in ct.columns:\n",
    "    sub = ct[ct[cell_type] > 20]\n",
    "    ind_dict[cell_type] = sub.index.tolist()"
   ]
  },
  {
   "cell_type": "code",
   "execution_count": 8,
   "metadata": {},
   "outputs": [
    {
     "data": {
      "text/plain": [
       "{'1364': ['0', '1', '2', '3', '4', '5', '6', '7', '8', '10'],\n",
       " '1452': ['0', '1', '2', '3', '4', '5', '6', '7', '8', '10'],\n",
       " '1579': ['0', '1', '2', '3', '4', '5', '6', '7', '8'],\n",
       " '1650': ['0', '1', '2', '3', '4', '5', '6', '7', '8', '10', '13'],\n",
       " '1690': ['0', '1', '2', '3', '4', '5', '6', '7', '8', '10', '12'],\n",
       " '1693': ['0', '1', '2', '3', '4', '5', '6', '7', '8', '9'],\n",
       " '1703': ['0', '1', '2', '3', '4', '5', '6', '7', '8', '10'],\n",
       " '1716': ['0', '1', '2', '3', '4', '5', '6', '7', '8', '10', '12'],\n",
       " '1733': ['0', '1', '2', '3', '4', '5', '6', '7', '8', '10', '14', '15'],\n",
       " '1739': ['0', '1', '2', '3', '4', '5', '6', '7', '8', '9', '10'],\n",
       " '1763': ['0', '1', '2', '3', '4', '5', '6', '7', '8', '9', '10', '12', '13'],\n",
       " '1773': ['0', '1', '2', '3', '4', '5', '6', '7', '8', '9', '10'],\n",
       " '1785': ['0', '1', '2', '3', '4', '5', '6', '7', '8', '10', '11', '12'],\n",
       " '1800': ['0', '1', '2', '3', '4', '5', '6', '7', '8', '9', '10'],\n",
       " '1801': ['0', '1', '2', '3', '4', '5', '6', '7', '10']}"
      ]
     },
     "execution_count": 8,
     "metadata": {},
     "output_type": "execute_result"
    }
   ],
   "source": [
    "# The clusters included for each sample -- note, there is not perfect coverage here\n",
    "ind_dict"
   ]
  },
  {
   "cell_type": "code",
   "execution_count": 9,
   "metadata": {},
   "outputs": [],
   "source": [
    "# Sum across all nuclei of each cluster above, for each sample\n",
    "tocat = []\n",
    "for ind in adata.obs['individual'].unique():\n",
    "    sdata = adata[adata.obs['individual'] == ind].copy()\n",
    "    for ct in ind_dict[ind]:\n",
    "        out = pd.DataFrame(sdata[sdata.obs['leiden0.5']==ct].X.sum(0)).transpose()\n",
    "        out.columns = [ind + '_' + ct]\n",
    "        tocat.append(out)\n",
    "finalout = pd.concat(tocat, axis = 1)\n",
    "finalout.index = adata.var.index.tolist()\n",
    "\n",
    "# Make a column identifier that represents the sample/celltype combination\n",
    "for x in finalout.columns:\n",
    "    finalout[x] = [int(y) for y in finalout[x]]"
   ]
  },
  {
   "cell_type": "code",
   "execution_count": 10,
   "metadata": {},
   "outputs": [],
   "source": [
    "# Convert pandas dataframe into R so we can run limma-voom\n",
    "with localconverter(ro.default_converter + pandas2ri.converter):\n",
    "    all_counts = ro.conversion.py2rpy(finalout)"
   ]
  },
  {
   "cell_type": "code",
   "execution_count": 11,
   "metadata": {},
   "outputs": [],
   "source": [
    "# Get a vector with the cluster group and a vector with the individual label\n",
    "# This can be thought of as a paired test where we have measurements in each sample from each cell type\n",
    "ind_group = base.strsplit(all_counts.colnames, split='_')\n",
    "individual = ro.FactorVector([base.unlist(ind_group)[x] for x in range(0,finalout.shape[1]*2,2)])\n",
    "cluster = ro.StrVector([base.unlist(ind_group)[x] for x in range(1,finalout.shape[1]*2,2)])"
   ]
  },
  {
   "cell_type": "code",
   "execution_count": 12,
   "metadata": {},
   "outputs": [
    {
     "name": "stdout",
     "output_type": "stream",
     "text": [
      "[1] 17542   161\n",
      "\n"
     ]
    }
   ],
   "source": [
    "# Use edgeR filterByExpr to filter out genes too lowly expressed to test\n",
    "keep_exprs = edgeR.filterByExpr(all_counts, group=cluster)\n",
    "all_counts = all_counts.rx(keep_exprs, True )\n",
    "print(ro.r.dim(all_counts))"
   ]
  },
  {
   "cell_type": "code",
   "execution_count": 40,
   "metadata": {},
   "outputs": [
    {
     "name": "stdout",
     "output_type": "stream",
     "text": [
      "\n",
      " 0  1 10 11 12 13 14 15  2  3  4  5  6  7  8  9 \n",
      "15 15 13  1  4  2  1  1 15 15 15 15 15 15 14  5 \n",
      "\n"
     ]
    }
   ],
   "source": [
    "# Look at the number of samples included for each cluster\n",
    "print(ro.r.table(cluster))"
   ]
  },
  {
   "cell_type": "code",
   "execution_count": 13,
   "metadata": {},
   "outputs": [
    {
     "name": "stdout",
     "output_type": "stream",
     "text": [
      "\n",
      "X1364 X1452 X1579 X1650 X1690 X1693 X1703 X1716 X1733 X1739 X1763 X1773 X1785 \n",
      "   10    10     9    11    11    10    10    11    12    11    13    11    12 \n",
      "X1800 X1801 \n",
      "   11     9 \n",
      "\n"
     ]
    }
   ],
   "source": [
    "# Look at the number of clusters included for each sample\n",
    "print(ro.r.table(individual))"
   ]
  },
  {
   "cell_type": "code",
   "execution_count": 41,
   "metadata": {
    "scrolled": true
   },
   "outputs": [
    {
     "data": {
      "text/html": [
       "\n",
       "        <span>FloatMatrix with 480 elements.</span>\n",
       "        <table>\n",
       "        <tbody>\n",
       "          <tr>\n",
       "          \n",
       "            <td>\n",
       "            1.000000\n",
       "            </td>\n",
       "          \n",
       "            <td>\n",
       "            -0.066667\n",
       "            </td>\n",
       "          \n",
       "            <td>\n",
       "            -0.066667\n",
       "            </td>\n",
       "          \n",
       "            <td>\n",
       "            ...\n",
       "            </td>\n",
       "          \n",
       "            <td>\n",
       "            0.000000\n",
       "            </td>\n",
       "          \n",
       "            <td>\n",
       "            0.000000\n",
       "            </td>\n",
       "          \n",
       "            <td>\n",
       "            0.000000\n",
       "            </td>\n",
       "          \n",
       "          </tr>\n",
       "        </tbody>\n",
       "        </table>\n",
       "        "
      ],
      "text/plain": [
       "R object with classes: ('matrix',) mapped to:\n",
       "[1.000000, -0.066667, -0.066667, -0.066667, ..., 0.000000, 0.000000, 0.000000, 0.000000]"
      ]
     },
     "execution_count": 41,
     "metadata": {},
     "output_type": "execute_result"
    }
   ],
   "source": [
    "# Set up the design\n",
    "ro.r.assign('individual', individual)\n",
    "ro.r.assign('cluster', cluster)\n",
    "ro.r('individual <- as.factor(individual)')\n",
    "ro.r('cluster <- as.factor(cluster)')\n",
    "ro.r('design <- model.matrix(~ 0 + cluster + individual)') # the model including a fixed effect for individual (paired design)\n",
    "\n",
    "# set up contrasts -- each is a test of a given cluster vs all other clusters\n",
    "tocat = []\n",
    "cluster_ids = set([x.split('_')[-1] for x in finalout.columns])\n",
    "for i in sorted(cluster_ids):\n",
    "    ref_comp = []\n",
    "    for j in sorted(cluster_ids):\n",
    "        if j == i:\n",
    "            continue\n",
    "        ref_comp.append('cluster' + str(j))\n",
    "    contr = 'C' + str(i) + 'vsALL=cluster' + str(i) + '-(' + '+'.join(ref_comp) + ')/' + str(len(cluster_ids)-1)\n",
    "    tocat.append(contr)\n",
    "contr_string = 'contr.matrix <- makeContrasts(' + ', '.join(tocat) + ', levels=colnames(design))'\n",
    "ro.r(contr_string)"
   ]
  },
  {
   "cell_type": "code",
   "execution_count": 42,
   "metadata": {},
   "outputs": [
    {
     "data": {
      "text/html": [
       "\n",
       "        <span>FloatVector with 161 elements.</span>\n",
       "        <table>\n",
       "        <tbody>\n",
       "          <tr>\n",
       "          \n",
       "            <td>\n",
       "            23551273.712556\n",
       "            </td>\n",
       "          \n",
       "            <td>\n",
       "            3330592.275545\n",
       "            </td>\n",
       "          \n",
       "            <td>\n",
       "            2680126.636294\n",
       "            </td>\n",
       "          \n",
       "            <td>\n",
       "            ...\n",
       "            </td>\n",
       "          \n",
       "            <td>\n",
       "            215868.225600\n",
       "            </td>\n",
       "          \n",
       "            <td>\n",
       "            267662.357542\n",
       "            </td>\n",
       "          \n",
       "            <td>\n",
       "            226787.353436\n",
       "            </td>\n",
       "          \n",
       "          </tr>\n",
       "        </tbody>\n",
       "        </table>\n",
       "        "
      ],
      "text/plain": [
       "R object with classes: ('numeric',) mapped to:\n",
       "[23551273.712556, 3330592.275545, 2680126.636294, 1037680.065907, ..., 1501939.028029, 215868.225600, 267662.357542, 226787.353436]"
      ]
     },
     "execution_count": 42,
     "metadata": {},
     "output_type": "execute_result"
    }
   ],
   "source": [
    "# Normalize data\n",
    "ro.r.assign('all_counts', all_counts)\n",
    "sf = DESeq2.estimateSizeFactorsForMatrix(all_counts) # DESeq2 normalization\n",
    "ro.r.assign('sf', sf)\n",
    "ro.r('eff.lib <- sf*mean(colSums(all_counts))')"
   ]
  },
  {
   "cell_type": "code",
   "execution_count": 43,
   "metadata": {},
   "outputs": [
    {
     "data": {
      "text/html": [
       "\n",
       "        <span>IntVector with 1 elements.</span>\n",
       "        <table>\n",
       "        <tbody>\n",
       "          <tr>\n",
       "          \n",
       "            <td>\n",
       "            1\n",
       "            </td>\n",
       "          \n",
       "          </tr>\n",
       "        </tbody>\n",
       "        </table>\n",
       "        "
      ],
      "text/plain": [
       "R object with classes: ('RTYPES.INTSXP',) mapped to:\n",
       "[1]"
      ]
     },
     "execution_count": 43,
     "metadata": {},
     "output_type": "execute_result"
    }
   ],
   "source": [
    "# Run Voom (with Quality Weights)\n",
    "ro.r('y <- DGEList(all_counts, lib.size=eff.lib)')\n",
    "grdevices.pdf(file=os.path.join(path_markers, 'humanICM.ICM_and_NF.voom.pdf'))\n",
    "ro.r('v.all <- voomWithQualityWeights(y, design, plot=T)')\n",
    "grdevices.dev_off()"
   ]
  },
  {
   "cell_type": "code",
   "execution_count": 44,
   "metadata": {},
   "outputs": [
    {
     "name": "stdout",
     "output_type": "stream",
     "text": [
      "model fit...\n"
     ]
    }
   ],
   "source": [
    "# Fit the model\n",
    "ro.r('vfit <- lmFit(v.all, design)')\n",
    "ro.r('vfit <- contrasts.fit(vfit, contrasts=contr.matrix)')\n",
    "ro.r('vfit <- eBayes(vfit, robust=TRUE)')\n",
    "print('model fit...')"
   ]
  },
  {
   "cell_type": "code",
   "execution_count": 45,
   "metadata": {},
   "outputs": [],
   "source": [
    "# Compile the results from each contrast into a dataframe\n",
    "# Save this output\n",
    "tocat = []\n",
    "for contr in np.array(ro.r('colnames(contr.matrix)')):\n",
    "    ro.r('vres <- topTable(vfit, coef=\"' + contr + '\", n=Inf, sort.by=\"P\")')\n",
    "    with localconverter(ro.default_converter + pandas2ri.converter):\n",
    "        pd_from_r_df = ro.conversion.rpy2py(ro.r('vres'))\n",
    "    pd_from_r_df['contrast'] = contr\n",
    "    tocat.append(pd_from_r_df)\n",
    "limma_voom_results = pd.concat(tocat)\n",
    "limma_voom_results.reset_index().to_csv(os.path.join(path_markers, 'humanICM.ICM_and_NF.limmavoom.markers.txt'),\n",
    "                          sep='\\t',index=None,na_rep='NA')"
   ]
  },
  {
   "cell_type": "code",
   "execution_count": 46,
   "metadata": {
    "scrolled": true
   },
   "outputs": [
    {
     "data": {
      "text/html": [
       "\n",
       "        <span>IntVector with 1 elements.</span>\n",
       "        <table>\n",
       "        <tbody>\n",
       "          <tr>\n",
       "          \n",
       "            <td>\n",
       "            1\n",
       "            </td>\n",
       "          \n",
       "          </tr>\n",
       "        </tbody>\n",
       "        </table>\n",
       "        "
      ],
      "text/plain": [
       "R object with classes: ('RTYPES.INTSXP',) mapped to:\n",
       "[1]"
      ]
     },
     "execution_count": 46,
     "metadata": {},
     "output_type": "execute_result"
    }
   ],
   "source": [
    "# Extra Voom diagnostic (SAplot)\n",
    "grdevices.pdf(file=os.path.join(path_markers, 'humanICM.ICM_and_NF.plotSA.pdf'))\n",
    "ro.r('plotSA(vfit)')\n",
    "grdevices.dev_off()"
   ]
  },
  {
   "cell_type": "markdown",
   "metadata": {},
   "source": [
    "## Expression level data for each gene by cluster\n",
    "Beyond the differential expression tests for each cluster compared to all other clusters based on the nuclei-level AUC metric and the sample level limma-voom model, it can be useful to calculate raw expression levels of these genes in each cluster."
   ]
  },
  {
   "cell_type": "code",
   "execution_count": 75,
   "metadata": {},
   "outputs": [
    {
     "name": "stdout",
     "output_type": "stream",
     "text": [
      "WARNING: Your filename has more than two extensions: ['.Neighbor', '.UMAP', '.Freeze1', '.h5ad'].\n",
      "Only considering the two last: ['.Freeze1', '.h5ad'].\n",
      "WARNING: Your filename has more than two extensions: ['.Neighbor', '.UMAP', '.Freeze1', '.h5ad'].\n",
      "Only considering the two last: ['.Freeze1', '.h5ad'].\n"
     ]
    }
   ],
   "source": [
    "# Read in the snRNAseq map\n",
    "adata = sc.read(os.path.join(path_aggregation,'humanICM.PostQC.Map/PostQC.Neighbor.UMAP.Freeze1.h5ad'))"
   ]
  },
  {
   "cell_type": "code",
   "execution_count": 76,
   "metadata": {},
   "outputs": [],
   "source": [
    "# Log-Normalize Data\n",
    "sc.pp.normalize_total(adata, target_sum = 1e4)\n",
    "sc.pp.log1p(adata)"
   ]
  },
  {
   "cell_type": "code",
   "execution_count": 77,
   "metadata": {},
   "outputs": [],
   "source": [
    "# This is written fairly inefficiently but gets the desired percentages split by group\n",
    "def calculate_pct_expr(adata, cluster_key, subgroup_key):\n",
    "    '''\n",
    "    adata: adata object\n",
    "    cluster_key: the .obs key representing the cluster\n",
    "    '''\n",
    "    # Base data to derive the desired metrics\n",
    "    tocat = []\n",
    "    for clst in adata.obs[cluster_key].cat.categories:\n",
    "        print(clst)\n",
    "        # PCT > 0\n",
    "        base = pd.DataFrame((adata[adata.obs[cluster_key]==clst].X > 0).sum(0)).transpose()\n",
    "        base.columns = ['all.n.gt0.'+clst]\n",
    "        base.index = adata.var.index\n",
    "        for grp in adata.obs[subgroup_key].cat.categories:\n",
    "            toappend = pd.DataFrame((adata[(adata.obs[cluster_key]==clst)&(adata.obs[subgroup_key]==grp)].X > 0).sum(0)).transpose()\n",
    "            toappend.columns = [grp+'.n.gt0.'+clst]\n",
    "            toappend.index = adata.var.index\n",
    "            base = pd.concat([base, toappend], axis = 1)\n",
    "        # AVG EXPR\n",
    "        base2 = pd.DataFrame((adata[adata.obs[cluster_key]==clst].X).sum(0)).transpose()\n",
    "        base2.columns = ['all.sumexp.'+clst]\n",
    "        base2.index = adata.var.index\n",
    "        base = pd.concat([base, base2], axis = 1)\n",
    "        for grp in adata.obs[subgroup_key].cat.categories:\n",
    "            toappend = pd.DataFrame((adata[(adata.obs[cluster_key]==clst)&(adata.obs[subgroup_key]==grp)].X).sum(0)).transpose()\n",
    "            toappend.columns = [grp+'.sumexp.'+clst]\n",
    "            toappend.index = adata.var.index\n",
    "            base = pd.concat([base, toappend], axis = 1)        \n",
    "        tocat.append(base)\n",
    "    ref_data = pd.concat(tocat, axis = 1)\n",
    "    tocat = []\n",
    "    for clst in adata.obs[cluster_key].cat.categories:\n",
    "        # compile the PCT > 0 for each cluster\n",
    "        tomerge = []\n",
    "        for grp in ['all'] + adata.obs[subgroup_key].cat.categories.tolist():\n",
    "            base = ref_data[[grp+'.n.gt0.'+clst]].copy()\n",
    "            if grp == 'all':\n",
    "                base[grp+'.pct.gt0.target'] = ref_data[[grp+'.n.gt0.'+clst]]/adata[(adata.obs[cluster_key]==clst)].shape[0]\n",
    "                base[grp+'.pct.gt0.nontarget'] = ref_data[[x for x in ref_data.columns \n",
    "                                                      if re.search(grp+'\\.n\\.gt0',x) and x != grp+'.n.gt0.'+clst]].sum(1) / \\\n",
    "                                                 adata.obs[(adata.obs[cluster_key]!=clst)].shape[0]\n",
    "            else:\n",
    "                base[grp+'.pct.gt0.target'] = ref_data[[grp+'.n.gt0.'+clst]]/adata[(adata.obs[cluster_key]==clst)&\n",
    "                                                                                   (adata.obs[subgroup_key]==grp)].shape[0]\n",
    "                base[grp+'.pct.gt0.nontarget'] = ref_data[[x for x in ref_data.columns \n",
    "                                                      if re.search(grp+'\\.n\\.gt0',x) and x != grp+'.n.gt0.'+clst]].sum(1) / \\\n",
    "                                                 adata.obs[(adata.obs[cluster_key]!=clst)&\n",
    "                                                           (adata.obs[subgroup_key]==grp)].shape[0]\n",
    "            base = base[[grp+'.pct.gt0.target',grp+'.pct.gt0.nontarget']]\n",
    "            base.columns = [grp+'.pct.gt0.target',grp+'.pct.gt0.nontarget']\n",
    "            tomerge.append(base)\n",
    "        # compile the avg expr for each cluster\n",
    "        for grp in ['all'] + adata.obs[subgroup_key].cat.categories.tolist():\n",
    "            base = ref_data[[grp + '.sumexp.' + clst]].copy()\n",
    "            if grp == 'all':\n",
    "                base[grp+'.avg.expr.target'] = ref_data[[grp + '.sumexp.' + clst]]/adata[(adata.obs[cluster_key]==clst)].shape[0]\n",
    "                base[grp+'.avg.expr.nontarget'] = ref_data[[x for x in ref_data.columns \n",
    "                                                      if re.search(grp+'\\.sumexp',x) and x != grp+'.sumexp.'+clst]].sum(1) / \\\n",
    "                                                 adata.obs[(adata.obs[cluster_key]!=clst)].shape[0]        \n",
    "            else:\n",
    "                base[grp+'.avg.expr.target'] = ref_data[[grp + '.sumexp.' + clst]]/adata[(adata.obs[cluster_key]==clst)&\n",
    "                                                                                         (adata.obs[subgroup_key]==grp)].shape[0]\n",
    "                base[grp+'.avg.expr.nontarget'] = ref_data[[x for x in ref_data.columns \n",
    "                                                      if re.search(grp+'\\.sumexp',x) and x != grp+'.sumexp.'+clst]].sum(1) / \\\n",
    "                                                 adata.obs[(adata.obs[cluster_key]!=clst)&\n",
    "                                                           (adata.obs[subgroup_key]==grp)].shape[0]   \n",
    "            base = base[[grp+'.avg.expr.target',grp+'.avg.expr.nontarget']]\n",
    "            base.columns = [grp+'.avg.expr.target',grp+'.avg.expr.nontarget']\n",
    "            tomerge.append(base)\n",
    "        # just some reorganizing\n",
    "        aggregated = pd.concat(tomerge, axis = 1)\n",
    "        aggregated['cluster'] = clst\n",
    "        aggregated = aggregated[['cluster'] + [x for x in aggregated.columns if not x == 'cluster']]\n",
    "        tocat.append(aggregated)\n",
    "    all_results = pd.concat(tocat)\n",
    "    return(all_results)"
   ]
  },
  {
   "cell_type": "code",
   "execution_count": 78,
   "metadata": {},
   "outputs": [
    {
     "name": "stdout",
     "output_type": "stream",
     "text": [
      "0\n",
      "1\n",
      "2\n",
      "3\n",
      "4\n",
      "5\n",
      "6\n",
      "7\n",
      "8\n",
      "9\n",
      "10\n",
      "11\n",
      "12\n",
      "13\n",
      "14\n",
      "15\n"
     ]
    }
   ],
   "source": [
    "# Caclulate the percent of nuclei with non-zero expression and the average log-normalized expression\n",
    "# for each gene across all nuclei, disease nuclei only, and healthy nuclei only\n",
    "pct_avgexp = calculate_pct_expr(adata, 'leiden0.5', 'disease')"
   ]
  },
  {
   "cell_type": "code",
   "execution_count": 79,
   "metadata": {},
   "outputs": [],
   "source": [
    "# Save the output file\n",
    "pct_avgexp.reset_index().to_csv(os.path.join(path_markers, 'humanICM.pctavg_expr.txt.gz'),\n",
    "                                sep='\\t', index=None, na_rep='NA', compression='gzip')"
   ]
  },
  {
   "cell_type": "markdown",
   "metadata": {},
   "source": [
    "## Compile all the marker gene information into one master file\n",
    "We want to aggregate all this gene level information into one master file, and then subset that file to \"significant\" markers that can be used to discriminate clusters."
   ]
  },
  {
   "cell_type": "code",
   "execution_count": 9,
   "metadata": {},
   "outputs": [
    {
     "name": "stdout",
     "output_type": "stream",
     "text": [
      "WARNING: Your filename has more than two extensions: ['.Neighbor', '.UMAP', '.Freeze1', '.h5ad'].\n",
      "Only considering the two last: ['.Freeze1', '.h5ad'].\n",
      "WARNING: Your filename has more than two extensions: ['.Neighbor', '.UMAP', '.Freeze1', '.h5ad'].\n",
      "Only considering the two last: ['.Freeze1', '.h5ad'].\n"
     ]
    }
   ],
   "source": [
    "# Read in the snRNAseq map\n",
    "adata = sc.read(os.path.join(path_aggregation,'humanICM.PostQC.Map/PostQC.Neighbor.UMAP.Freeze1.h5ad'))"
   ]
  },
  {
   "cell_type": "code",
   "execution_count": 10,
   "metadata": {},
   "outputs": [],
   "source": [
    "# Log-Normalize Data (this is to help with later visualization here)\n",
    "sc.pp.normalize_total(adata, target_sum = 1e4)\n",
    "sc.pp.log1p(adata)"
   ]
  },
  {
   "cell_type": "code",
   "execution_count": 14,
   "metadata": {},
   "outputs": [],
   "source": [
    "# AUC-based, nuclei-level markers\n",
    "auc_all = pd.read_csv(os.path.join(path_markers ,'humanICM.ICM_and_NF.AUC.markers.txt'), sep='\\t')\n",
    "\n",
    "# Add a column to merge that is a combination of gene and cluster\n",
    "auc_all['gene_cluster'] = [str(x) + '_' + str(y) for x,y in zip(auc_all['names'], auc_all['cluster'])]\n",
    "auc_all = auc_all[['gene_cluster'] + ['n1', 'AUC']]"
   ]
  },
  {
   "cell_type": "code",
   "execution_count": 15,
   "metadata": {},
   "outputs": [],
   "source": [
    "# limma-voom based marker genes\n",
    "lv_all = pd.read_csv(os.path.join(path_markers, 'humanICM.ICM_and_NF.limmavoom.markers.txt'),sep='\\t')\n",
    "\n",
    "# Add a column to merge that is a combination of gene and cluster\n",
    "lv_all['gene_cluster'] = [str(x) + '_' + str(y.split('vs')[0][1:]) for x,y in zip(lv_all['index'], lv_all['contrast'])]\n",
    "lv_all = lv_all[['gene_cluster'] + ['logFC', 't', 'P.Value', 'adj.P.Val']]"
   ]
  },
  {
   "cell_type": "code",
   "execution_count": 16,
   "metadata": {},
   "outputs": [],
   "source": [
    "# Percent expressing and average expression\n",
    "pctavg = pd.read_csv(os.path.join(path_markers, 'humanICM.pctavg_expr.txt.gz'), sep='\\t')\n",
    "pctavg['gene_cluster'] = [str(x) + '_' + str(y) for x,y in zip(pctavg['index'], pctavg['cluster'])]\n",
    "pctavg = pctavg[['gene_cluster'] + pctavg.columns[2:-1].tolist()]"
   ]
  },
  {
   "cell_type": "code",
   "execution_count": 19,
   "metadata": {},
   "outputs": [],
   "source": [
    "# Read in the GTF used for processing the data so we can annotated the gene type from that\n",
    "gtf = pd.read_csv(path_gtf, sep='\\t', header=None)\n",
    "\n",
    "# Pull out the gene_id and the gene_type for each gene\n",
    "gtf['gene_id'] = [[y for y in x.split(';') if re.search('gene_id',y)][0].split(' ')[1].split('\\\"')[1] for x in gtf[8]]\n",
    "gtf['gene_type'] = [[y for y in x.split(';') if re.search('gene_type',y)][0].split(' ')[-1].split('\\\"')[1] for x in gtf[8]]\n",
    "\n",
    "# merge the GTF with the adata gene identifiers, so we can map between the results\n",
    "gtf = gtf.merge(adata.var.reset_index()[['index','gene_ids']], left_on='gene_id', right_on='gene_ids', how='left')"
   ]
  },
  {
   "cell_type": "code",
   "execution_count": 21,
   "metadata": {},
   "outputs": [],
   "source": [
    "# Compile all marker gene results\n",
    "markergenes = auc_all.merge(lv_all, on = 'gene_cluster', how='left').merge(pctavg, on = 'gene_cluster', how='left')\n",
    "markergenes['gene'] = markergenes['gene_cluster'].apply(lambda x: x.split('_')[0])\n",
    "markergenes['cluster'] = markergenes['gene_cluster'].apply(lambda x: x.split('_')[1])\n",
    "markergenes = markergenes.merge(gtf[['index','gene_ids','gene_type']].drop_duplicates(),\n",
    "                                left_on='gene',\n",
    "                                right_on='index',\n",
    "                                how='left')"
   ]
  },
  {
   "cell_type": "code",
   "execution_count": 24,
   "metadata": {},
   "outputs": [],
   "source": [
    "# Reformat this file to a more interpretable ordering\n",
    "markergenes = markergenes[['gene', 'gene_ids', 'gene_type', 'cluster',\n",
    "                           'n1', 'all.pct.gt0.target', 'all.pct.gt0.nontarget',\n",
    "                           'all.avg.expr.target', 'all.avg.expr.nontarget',\n",
    "                           'AUC', 'logFC', 'P.Value', 'adj.P.Val','t']]"
   ]
  },
  {
   "cell_type": "code",
   "execution_count": 113,
   "metadata": {},
   "outputs": [],
   "source": [
    "# Save this fully compiled file\n",
    "markergenes.to_csv(os.path.join(path_markers, 'humanICM.markergenes_full.txt.gz'),\n",
    "                   sep='\\t', index=None, na_rep='NA', compression='gzip')"
   ]
  },
  {
   "cell_type": "code",
   "execution_count": 115,
   "metadata": {},
   "outputs": [],
   "source": [
    "'''\n",
    "Save a list of markers for each cluster based on the following criteria for the \"all\"\n",
    "comparison:\n",
    "AUC > 0.60\n",
    "limma-voom adj.P.Val < 0.01\n",
    "limma-voom logFC > 2\n",
    "pct.gt0.target > 0.25\n",
    "protein coding only\n",
    "'''\n",
    "submarkers = markergenes[(markergenes['all.AUC'] > 0.60) &\n",
    "                         (markergenes['all.adj.P.Val'] < 0.01) &\n",
    "                         (markergenes['all.logFC'] > 2) &\n",
    "                         (markergenes['all.pct.gt0.target'] > 0.25) &\n",
    "                         (markergenes['gene_type'] == 'protein_coding')].copy()\n",
    "submarkers.to_csv(os.path.join(path_markers, 'humanICM.markergenes_significant.txt'),\n",
    "                   sep='\\t', index=None, na_rep='NA')"
   ]
  },
  {
   "cell_type": "code",
   "execution_count": 31,
   "metadata": {},
   "outputs": [],
   "source": [
    "# Name clusters for preliminary plotting\n",
    "name_map = {'0':'Cardiomyocyte', '1':'Fibroblast', '2':'Endothelial I', '3':'Pericyte', '4':'Macrophage',\n",
    "            '5':'Endothelial II', '6':'Lymphocyte I', '7':'VSMC', '8':'Lymphatic Endothelial',\n",
    "            '9':'Adipocyte', '10':'Neuronal', '11':'Endothelial III', '12':'Proliferating Macrophage', '13':'Mast Cell',\n",
    "            '14':'Cardiomyocyte II', '15':'Epicardial'}\n",
    "adata.obs['leiden0.5_name'] = [name_map[x] for x in adata.obs['leiden0.5']]\n",
    "adata.obs['leiden0.5_name'] = adata.obs['leiden0.5_name'].astype('category')\n",
    "adata.obs['leiden0.5_name'] = adata.obs['leiden0.5_name'].cat.reorder_categories(['Cardiomyocyte', 'Fibroblast',\n",
    "                                                                                  'Endothelial I', 'Pericyte',\n",
    "                                                    'Macrophage', 'Endothelial II', 'VSMC', 'Lymphocyte I',\n",
    "                                                    'Lymphatic Endothelial', 'Endothelial III',\n",
    "                                                    'Neuronal', 'Adipocyte', 'Proliferating Macrophage', 'Cardiomyocyte II',\n",
    "                                                    'Mast Cell', 'Epicardial'])"
   ]
  },
  {
   "cell_type": "code",
   "execution_count": 32,
   "metadata": {
    "scrolled": false
   },
   "outputs": [
    {
     "data": {
      "image/png": "[encoded data removed]",
      "text/plain": [
       "<Figure size 1386.72x475.2 with 4 Axes>"
      ]
     },
     "metadata": {
      "needs_background": "light"
     },
     "output_type": "display_data"
    }
   ],
   "source": [
    "# Plot the top 3 genes for each cluster (based on logFC) just to make sure they map well\n",
    "# This looks pretty reliable in terms of marker identification\n",
    "submarkers = pd.read_csv(os.path.join(path_markers, 'humanICM.markergenes_significant.txt'),\n",
    "                          sep='\\t')\n",
    "gplot = [x for y in [submarkers[submarkers['cluster']==int(i)].sort_values('all.logFC',ascending=False).head(3)['gene'].tolist()\n",
    "                     for i in adata.obs['leiden0.5'].value_counts().index] for x in y]\n",
    "sc.pl.dotplot(adata, gplot, groupby='leiden0.5_name')"
   ]
  },
  {
   "cell_type": "code",
   "execution_count": null,
   "metadata": {},
   "outputs": [],
   "source": []
  }
 ],
 "metadata": {
  "kernelspec": {
   "display_name": "Python 3",
   "language": "python",
   "name": "python3"
  },
  "language_info": {
   "codemirror_mode": {
    "name": "ipython",
    "version": 3
   },
   "file_extension": ".py",
   "mimetype": "text/x-python",
   "name": "python",
   "nbconvert_exporter": "python",
   "pygments_lexer": "ipython3",
   "version": "3.7.3"
  },
  "toc": {
   "base_numbering": 1,
   "nav_menu": {},
   "number_sections": true,
   "sideBar": true,
   "skip_h1_title": false,
   "title_cell": "Table of Contents",
   "title_sidebar": "Contents",
   "toc_cell": false,
   "toc_position": {},
   "toc_section_display": true,
   "toc_window_display": false
  }
 },
 "nbformat": 4,
 "nbformat_minor": 2
}
